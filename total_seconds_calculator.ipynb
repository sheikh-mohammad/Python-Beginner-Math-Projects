{
 "cells": [
  {
   "cell_type": "markdown",
   "id": "4289c21d",
   "metadata": {},
   "source": [
    "# **Total Seconds Calculator**\n",
    "\n",
    "**Cateogory Name:** Math Projects <br />\n",
    "**Project Name:** Total Seconds Calculator\n",
    "\n",
    "## **Objective**\n",
    "\n",
    "Create a Total Seconds calculator that takes hours, minutes and seconds from the user and gives the total seconds.\n",
    "\n",
    "## **Concepts Used**\n",
    "\n",
    "- Variables\n",
    "- Input & Output (`input()`, `print()`)\n",
    "- Type Annotations (`:int`)\n",
    "- Arithmetic Operator (`+`, `-`, `*`, `/`)\n",
    "- f-strings (`f\" \"`)\n",
    "\n",
    "## **Expected Output**\n",
    "\n",
    "- User enter the hours, minutes and seconds\n",
    "- Program displays results of total seconds"
   ]
  },
  {
   "cell_type": "code",
   "execution_count": null,
   "id": "33919924",
   "metadata": {},
   "outputs": [
    {
     "name": "stdout",
     "output_type": "stream",
     "text": [
      "------------ Total Seconds Calculator ------------\n",
      "\n",
      "Welcome to Total Seconds Calculator!\n",
      "\n",
      "\n",
      "Hours: 24\n",
      "Minutes: 60\n",
      "Seconds: 60\n",
      "------------------\n",
      "Total Seconds 90060\n"
     ]
    }
   ],
   "source": [
    "# Welcome Statements\n",
    "print(\"------------ Total Seconds Calculator ------------\\n\")\n",
    "print(\"Welcome to Total Seconds Calculator!\\n\\n\")\n",
    "\n",
    "# Input Hours\n",
    "hours : int = int(input(\"Enter Hours: \"))\n",
    "\n",
    "# Input Minutes\n",
    "minutes : int = int(input(\"Enter Minutes: \"))\n",
    "\n",
    "# Input Seconds\n",
    "seconds : int = int(input(\"Enter Seconds: \"))\n",
    "\n",
    "# Calculating Total Seconds\n",
    "total_seconds : int = (hours * 3600) + (minutes * 60) + seconds\n",
    "\n",
    "# Printing All Values\n",
    "print(f\"Hours: {hours}\")\n",
    "print(f\"Minutes: {minutes}\")\n",
    "print(f\"Seconds: {seconds}\")\n",
    "print(\"------------------\")\n",
    "print(f\"Total Seconds: {total_seconds}\")"
   ]
  }
 ],
 "metadata": {
  "kernelspec": {
   "display_name": "Python 3",
   "language": "python",
   "name": "python3"
  },
  "language_info": {
   "codemirror_mode": {
    "name": "ipython",
    "version": 3
   },
   "file_extension": ".py",
   "mimetype": "text/x-python",
   "name": "python",
   "nbconvert_exporter": "python",
   "pygments_lexer": "ipython3",
   "version": "3.13.1"
  }
 },
 "nbformat": 4,
 "nbformat_minor": 5
}
