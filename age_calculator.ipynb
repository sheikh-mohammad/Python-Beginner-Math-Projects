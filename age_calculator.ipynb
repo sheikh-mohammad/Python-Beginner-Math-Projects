{
 "cells": [
  {
   "cell_type": "markdown",
   "id": "b4450914",
   "metadata": {},
   "source": [
    "# **Age Calculator**\n",
    "\n",
    "**Cateogory Name:** Math Projects <br />\n",
    "**Project Name:** Age Calculator\n",
    "\n",
    "## **Objective**\n",
    "\n",
    "Create a age calculator that takes birth year from the user and gives age.\n",
    "\n",
    "## **Concepts Used**\n",
    "\n",
    "- Variables\n",
    "- Input & Output (`input()`, `print()`)\n",
    "- Type Annotations (`:int`)\n",
    "- Arithmetic Operator (`-`)\n",
    "- f-strings (`f\" \"`)\n",
    "\n",
    "## **Expected Output**\n",
    "\n",
    "- User enter the birth year\n",
    "- Program displays results of age"
   ]
  },
  {
   "cell_type": "code",
   "execution_count": 1,
   "id": "0ff208d1",
   "metadata": {},
   "outputs": [
    {
     "name": "stdout",
     "output_type": "stream",
     "text": [
      "---------------- Age Calculator ----------------\n",
      "\n",
      "Welcome to Age Calculator!\n",
      "\n",
      "\n",
      "Your Birth Year is 2011\n",
      "Current Year is 2025\n",
      "-------------------\n",
      "You are 14 Years old\n"
     ]
    }
   ],
   "source": [
    "# Welcome Statements\n",
    "print(\"---------------- Age Calculator ----------------\\n\")\n",
    "print(\"Welcome to Age Calculator!\\n\\n\")\n",
    "\n",
    "# Input Birth Year\n",
    "birth_year : int = int(input(\"Enter Your Birth Year: \"))\n",
    "\n",
    "# Currrent Year\n",
    "current_year : int = 2025\n",
    "\n",
    "# Calculating Age\n",
    "age : int = current_year - birth_year\n",
    "\n",
    "# Printing Output\n",
    "print(f\"Your Birth Year is {birth_year}\")\n",
    "print(f\"Current Year is {current_year}\")\n",
    "print(\"-------------------\")\n",
    "print(f\"You are {age} Years old\")"
   ]
  }
 ],
 "metadata": {
  "kernelspec": {
   "display_name": "Python 3",
   "language": "python",
   "name": "python3"
  },
  "language_info": {
   "codemirror_mode": {
    "name": "ipython",
    "version": 3
   },
   "file_extension": ".py",
   "mimetype": "text/x-python",
   "name": "python",
   "nbconvert_exporter": "python",
   "pygments_lexer": "ipython3",
   "version": "3.13.1"
  }
 },
 "nbformat": 4,
 "nbformat_minor": 5
}
