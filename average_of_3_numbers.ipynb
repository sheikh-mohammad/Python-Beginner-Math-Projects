{
 "cells": [
  {
   "cell_type": "markdown",
   "id": "f63c452f",
   "metadata": {},
   "source": [
    "# **Average of 3 Numbers**\n",
    "\n",
    "**Cateogory Name:** Math Projects <br />\n",
    "**Project Name:** Average of 3 Numbers\n",
    "\n",
    "## **Objective**\n",
    "\n",
    "Calculate Average of 3 numbers that takes 3 numbers from the user and gives average of them.\n",
    "\n",
    "## **Concepts Used**\n",
    "\n",
    "- Variables\n",
    "- Input & Output (`input()`, `print()`)\n",
    "- Type Annotations (`:int`)\n",
    "- Arithmetic Operator (`+`, `-`, `*`, `/`)\n",
    "- f-strings (`f\" \"`)\n",
    "\n",
    "## **Expected Output**\n",
    "\n",
    "- User enters the 3 numbers\n",
    "- Program displays results of average"
   ]
  },
  {
   "cell_type": "code",
   "execution_count": 1,
   "id": "1ff91483",
   "metadata": {},
   "outputs": [
    {
     "name": "stdout",
     "output_type": "stream",
     "text": [
      "-------------- Average of 3 Numbers ---------------\n",
      "\n",
      "Welcome to Average Calculator! ( Can only calculate average of 3 numbers )\n",
      "\n",
      "\n",
      "First Number: 2\n",
      "Second Number: 2\n",
      "Third Number: 2\n",
      "------------------\n",
      "Average: 2.0\n"
     ]
    }
   ],
   "source": [
    "# Welcome Statements\n",
    "print(\"-------------- Average of 3 Numbers ---------------\\n\")\n",
    "print(\"Welcome to Average Calculator! ( Can only calculate average of 3 numbers )\\n\\n\")\n",
    "\n",
    "# Input the Numbers\n",
    "first_number : int = int(input(\"Enter the First Number: \"))\n",
    "second_number : int = int(input(\"Enter the Second Number: \"))\n",
    "third_number : int = int(input(\"Enter the Third Number: \"))\n",
    "\n",
    "# Calculating Average\n",
    "average : float = (first_number + second_number + third_number) / 3\n",
    "\n",
    "# Printing Values\n",
    "print(f\"First Number: {first_number}\")\n",
    "print(f\"Second Number: {second_number}\")\n",
    "print(f\"Third Number: {third_number}\")\n",
    "print(\"------------------\")\n",
    "print(f\"Average: {average}\")\n"
   ]
  }
 ],
 "metadata": {
  "kernelspec": {
   "display_name": "Python 3",
   "language": "python",
   "name": "python3"
  },
  "language_info": {
   "codemirror_mode": {
    "name": "ipython",
    "version": 3
   },
   "file_extension": ".py",
   "mimetype": "text/x-python",
   "name": "python",
   "nbconvert_exporter": "python",
   "pygments_lexer": "ipython3",
   "version": "3.13.1"
  }
 },
 "nbformat": 4,
 "nbformat_minor": 5
}
