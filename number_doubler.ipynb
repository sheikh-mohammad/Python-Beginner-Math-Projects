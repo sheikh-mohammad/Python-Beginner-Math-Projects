{
 "cells": [
  {
   "cell_type": "markdown",
   "id": "e257c489",
   "metadata": {},
   "source": [
    "# **Number Doubler**\n",
    "\n",
    "**Cateogory Name:** Math Projects <br />\n",
    "**Project Name:** Number Doubler\n",
    "\n",
    "## **Objective**\n",
    "\n",
    "Create Number Doubler that takes a number from the user and doubles it.\n",
    "\n",
    "## **Concepts Used**\n",
    "\n",
    "- Variables\n",
    "- Input & Output (`input()`, `print()`)\n",
    "- Type Annotations (`:int`)\n",
    "- Arithmetic Operator (`*`, `**`)\n",
    "- f-strings (`f\" \"`)\n",
    "\n",
    "## **Expected Output**\n",
    "\n",
    "- User enter the number\n",
    "- Program displays results of double number"
   ]
  },
  {
   "cell_type": "code",
   "execution_count": null,
   "id": "63fcc84e",
   "metadata": {},
   "outputs": [],
   "source": [
    "# Welcome Statements\n",
    "print(\"---------- Number Doubler -----------\\n\")\n",
    "print(\"Welcome to Number Doubler!\\n\\n\")\n",
    "\n",
    "# Input a number\n",
    "number : int = int(input(\"Enter a Number: \"))\n",
    "\n",
    "# Calculating its double\n",
    "double : int = number * 2\n",
    "\n",
    "# Printing All Values\n",
    "print(f\"Number: {number}\")\n",
    "print(\"----------------\")\n",
    "print(f\"Double: {double}\")"
   ]
  }
 ],
 "metadata": {
  "language_info": {
   "name": "python"
  }
 },
 "nbformat": 4,
 "nbformat_minor": 5
}
