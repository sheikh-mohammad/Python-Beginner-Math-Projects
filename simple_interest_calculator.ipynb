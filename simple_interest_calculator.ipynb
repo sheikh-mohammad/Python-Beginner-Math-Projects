{
 "cells": [
  {
   "cell_type": "markdown",
   "id": "f917812b",
   "metadata": {},
   "source": [
    "# **Simple Interest Calculator**\n",
    "\n",
    "**Cateogory Name:** Math Projects <br />\n",
    "**Project Name:** Temperature Calculator\n",
    "\n",
    "## **Objective**\n",
    "\n",
    "Create a Simple Interest calculator that takes three values: principal amount, rate and time from the user and calculate interest.\n",
    "\n",
    "## **Concepts Used**\n",
    "\n",
    "- Variables\n",
    "- Input & Output (`input()`, `print()`)\n",
    "- Type Annotations (`:int`)\n",
    "- Arithmetic Operator (`+`, `-`, `*`, `/`)\n",
    "- f-strings (`f\" \"`)\n",
    "\n",
    "## **Expected Output**\n",
    "\n",
    "- User enter the principal amount, rate and time\n",
    "- Program displays results of interest"
   ]
  },
  {
   "cell_type": "code",
   "execution_count": 6,
   "id": "ae6f581a",
   "metadata": {},
   "outputs": [
    {
     "name": "stdout",
     "output_type": "stream",
     "text": [
      "------------------- Simple Interest Calculator ---------------\n",
      "\n",
      "Welcome to Simple Interest Calculator!\n",
      "\n",
      "\n",
      "Principal Amount: 2\n",
      "Rate: 22.0 %\n",
      "Time: 2 Years\n",
      "---------------------\n",
      "Interest: 0.88\n"
     ]
    }
   ],
   "source": [
    "# Welcome Statements\n",
    "print(\"------------------- Simple Interest Calculator ---------------\\n\")\n",
    "print(\"Welcome to Simple Interest Calculator!\\n\\n\")\n",
    "\n",
    "# Principal Amount\n",
    "principal_amount : int = int(input(\"Enter The Principal Amount: \"))\n",
    "\n",
    "# Enter the Rate ( In Percentage )\n",
    "rate : float = float(input(\"Enter The Rate: \"))\n",
    "\n",
    "# Enter the Time ( In Years )\n",
    "time : int = int(input(\"Enter The Time: \"))\n",
    "\n",
    "# Calculating Interest\n",
    "interest : float = (principal_amount * rate * time) / 100\n",
    "\n",
    "# Printing All Values\n",
    "print(f\"Principal Amount: {principal_amount}\")\n",
    "print(f\"Rate: {rate} %\")\n",
    "print(f\"Time: {time} Years\")\n",
    "print(\"---------------------\")\n",
    "print(f\"Interest: {interest}\")"
   ]
  }
 ],
 "metadata": {
  "kernelspec": {
   "display_name": "Python 3",
   "language": "python",
   "name": "python3"
  },
  "language_info": {
   "codemirror_mode": {
    "name": "ipython",
    "version": 3
   },
   "file_extension": ".py",
   "mimetype": "text/x-python",
   "name": "python",
   "nbconvert_exporter": "python",
   "pygments_lexer": "ipython3",
   "version": "3.13.1"
  }
 },
 "nbformat": 4,
 "nbformat_minor": 5
}
