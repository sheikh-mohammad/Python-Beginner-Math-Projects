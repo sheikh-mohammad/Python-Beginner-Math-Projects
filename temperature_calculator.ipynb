{
 "cells": [
  {
   "cell_type": "markdown",
   "id": "c460b5ea",
   "metadata": {},
   "source": [
    "# **Temperature Calculator**\n",
    "\n",
    "**Cateogory Name:** Math Projects <br />\n",
    "**Project Name:** Temperature Calculator\n",
    "\n",
    "## **Objective**\n",
    "\n",
    "Create a Temperature calculator that takes temperature in celsius from the user and converts it to fahrenheit.\n",
    "\n",
    "## **Concepts Used**\n",
    "\n",
    "- Variables\n",
    "- Input & Output (`input()`, `print()`)\n",
    "- Type Annotations (`:int`)\n",
    "- Arithmetic Operator (`+`, `-`, `*`, `/`)\n",
    "- f-strings (`f\" \"`)\n",
    "\n",
    "## **Expected Output**\n",
    "\n",
    "- User enter the birth year\n",
    "- Program displays results of age"
   ]
  },
  {
   "cell_type": "code",
   "execution_count": null,
   "id": "a12366e5",
   "metadata": {},
   "outputs": [
    {
     "name": "stdout",
     "output_type": "stream",
     "text": [
      "----------- Temperature Calculator --------------\n",
      "\n",
      "Welcome to Temperature Calculator!\n",
      "\n",
      "\n",
      "Temperature in Celsius: 23°C\n",
      "--------------------------------------\n",
      "Temperature in Fahrenheit: 73.4°F\n"
     ]
    }
   ],
   "source": [
    "# Welcome Statements\n",
    "print(\"----------- Temperature Calculator --------------\\n\")\n",
    "print(\"Welcome to Temperature Calculator!\\n\\n\")\n",
    "\n",
    "# Input Temperature in Celsius\n",
    "celsius : int = int(input(\"Enter Temperature in Celcius: \"))\n",
    "\n",
    "# Calculating Temperature in Fahrenheit\n",
    "fahrenheit : float = (celsius * 9 / 5) + 32\n",
    "\n",
    "# Printing Temperature\n",
    "print(f\"Temperature in Celsius: {celsius}°C\")\n",
    "print(\"----------------------------------\")\n",
    "print(f\"Temperature in Fahrenheit: {fahrenheit}°F\")"
   ]
  }
 ],
 "metadata": {
  "kernelspec": {
   "display_name": "Python 3",
   "language": "python",
   "name": "python3"
  },
  "language_info": {
   "codemirror_mode": {
    "name": "ipython",
    "version": 3
   },
   "file_extension": ".py",
   "mimetype": "text/x-python",
   "name": "python",
   "nbconvert_exporter": "python",
   "pygments_lexer": "ipython3",
   "version": "3.13.1"
  }
 },
 "nbformat": 4,
 "nbformat_minor": 5
}
