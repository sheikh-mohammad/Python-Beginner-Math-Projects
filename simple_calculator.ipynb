{
 "cells": [
  {
   "cell_type": "markdown",
   "id": "86779ffd",
   "metadata": {},
   "source": [
    "# **Simple Calculator**\n",
    "\n",
    "**Cateogory Name:** Math Projects <br />\n",
    "**Project Name:** Simple Calculator\n",
    "\n",
    "## **Objective**\n",
    "\n",
    "Create a simple calculator that takes numbers from the user and performs:\n",
    "- Addition\n",
    "- -Subtraction\n",
    "- Multiplication\n",
    "- Division\n",
    "\n",
    "## **Concepts Used**\n",
    "\n",
    "- Input & Output (`input()`, `print()`)\n",
    "- Type Conversions (`int`, `float`)\n",
    "- Arithmetic Operators (`+`, `-`, `*`, `/`)\n",
    "\n",
    "## **Expected Output**\n",
    "\n",
    "- User enter two numbers\n",
    "- Program displays results of all 4 operations"
   ]
  },
  {
   "cell_type": "code",
   "execution_count": 1,
   "id": "36deb75e",
   "metadata": {},
   "outputs": [
    {
     "name": "stdout",
     "output_type": "stream",
     "text": [
      "------------ Simple Calculator -----------\n",
      "\n",
      "Welcome to Simple Calculator!\n",
      "\n",
      "\n",
      "Number 1: 2\n",
      "Number 2: 2\n",
      "-----------------\n",
      "Addition: 4\n",
      "Subtraction: 0\n",
      "Multiplication: 4\n",
      "Division: 1.0\n"
     ]
    }
   ],
   "source": [
    "# Welcome Statements\n",
    "print(\"------------ Simple Calculator -----------\\n\")\n",
    "print(\"Welcome to Simple Calculator!\\n\\n\")\n",
    "\n",
    "# Input Numbers\n",
    "number_1 : int = int(input(\"Enter The First Number: \"))\n",
    "number_2 : int = int(input(\"Enter The Second Number: \"))\n",
    "\n",
    "# Performing All Operations\n",
    "\n",
    "# Addition\n",
    "add : int = number_1 + number_2\n",
    "\n",
    "# Subtraction\n",
    "subtract : int = number_1 - number_2\n",
    "\n",
    "# Multiplication\n",
    "multiply : int = number_1 * number_2\n",
    "\n",
    "# Division\n",
    "divide : float = number_1 / number_2\n",
    "\n",
    "# Printing All Operations\n",
    "print(f\"Number 1: {number_1}\")\n",
    "print(f\"Number 2: {number_2}\")\n",
    "print(\"-----------------\")\n",
    "print(f\"Addition: {add}\")\n",
    "print(f\"Subtraction: {subtract}\")\n",
    "print(f\"Multiplication: {multiply}\")\n",
    "print(f\"Division: {divide}\")"
   ]
  }
 ],
 "metadata": {
  "kernelspec": {
   "display_name": "Python 3",
   "language": "python",
   "name": "python3"
  },
  "language_info": {
   "codemirror_mode": {
    "name": "ipython",
    "version": 3
   },
   "file_extension": ".py",
   "mimetype": "text/x-python",
   "name": "python",
   "nbconvert_exporter": "python",
   "pygments_lexer": "ipython3",
   "version": "3.13.1"
  }
 },
 "nbformat": 4,
 "nbformat_minor": 5
}
