{
  "nbformat": 4,
  "nbformat_minor": 0,
  "metadata": {
    "colab": {
      "provenance": []
    },
    "kernelspec": {
      "name": "python3",
      "display_name": "Python 3"
    },
    "language_info": {
      "name": "python"
    }
  },
  "cells": [
    {
      "cell_type": "markdown",
      "source": [
        "# **Discount Calculator**\n",
        "\n",
        "**Cateogory Name:** Math Projects <br />\n",
        "**Project Name:** Discount Calculator\n",
        "\n",
        "## **Objective**\n",
        "\n",
        "Create a Discount calculator that takes original price and discount rate in percentage from the user and calculate its Discount.\n",
        "\n",
        "## **Concepts Used**\n",
        "\n",
        "- Variables\n",
        "- Input & Output (`input()`, `print()`)\n",
        "- Type Annotations (`:int`)\n",
        "- Arithmetic Operator (`+`, `-`, `*`, `/`)\n",
        "- f-strings (`f\" \"`)\n",
        "\n",
        "## **Expected Output**\n",
        "\n",
        "- User enter the original price and discount rate\n",
        "- Program displays results of discount"
      ],
      "metadata": {
        "id": "0a60dXfOpZOI"
      }
    },
    {
      "cell_type": "code",
      "execution_count": null,
      "metadata": {
        "id": "TjwqMzUcpThC",
        "colab": {
          "base_uri": "https://localhost:8080/"
        },
        "outputId": "2fd02322-8061-401a-b431-9e306d11169f"
      },
      "outputs": [
        {
          "output_type": "stream",
          "name": "stdout",
          "text": [
            "--------------- Discount Calculator -------------------\n",
            "\n",
            "Welcome to Discount Calculator!\n",
            "\n",
            "\n",
            "Enter the Original Price: 1999\n",
            "Enter Discount Rate: 1\n",
            "\n",
            "Original Price: 1999 Rs\n",
            "Discount Rate: 1 %\n",
            "Discount: 19.99 Rs\n",
            "-------------------------------\n",
            "Final Price: 1979.01 Rs\n"
          ]
        }
      ],
      "source": [
        "# Welcome Statements\n",
        "print(\"--------------- Discount Calculator -------------------\\n\")\n",
        "print(\"Welcome to Discount Calculator!\\n\\n\")\n",
        "\n",
        "# Input Original Price\n",
        "original_price : int = int(input(\"Enter the Original Price: \"))\n",
        "\n",
        "# Input Discount Rate (In percentage)\n",
        "discount_rate : int = int(input(\"Enter Discount Rate: \"))\n",
        "\n",
        "# Calculate Discount\n",
        "discount : float = (original_price * discount_rate)/100\n",
        "\n",
        "# Calculating Final Price (Including Discount)\n",
        "final_price = original_price - discount\n",
        "\n",
        "# Printing Values\n",
        "print(f\"\\nOriginal Price: {original_price} Rs\")\n",
        "print(f\"Discount Rate: {discount_rate} %\")\n",
        "print(f\"Discount: {discount} Rs\")\n",
        "print(\"-------------------------------\")\n",
        "print(f\"Final Price: {final_price} Rs\")"
      ]
    }
  ]
}