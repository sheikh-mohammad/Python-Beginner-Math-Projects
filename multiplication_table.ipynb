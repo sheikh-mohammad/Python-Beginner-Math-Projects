{
 "cells": [
  {
   "cell_type": "markdown",
   "id": "1d63b8e0",
   "metadata": {},
   "source": [
    "# **Multiplication Table**\n",
    "\n",
    "**Cateogory Name:** Math Projects <br />\n",
    "**Project Name:** Multiplication Table\n",
    "\n",
    "## **Objective**\n",
    "\n",
    "Create Multiplication Table that takes a number from the user and gives its Multiplication Table.\n",
    "\n",
    "## **Concepts Used**\n",
    "\n",
    "- Variables\n",
    "- Input & Output (`input()`, `print()`)\n",
    "- Type Annotations (`:int`)\n",
    "- Arithmetic Operator (`*`)\n",
    "- f-strings (`f\" \"`)\n",
    "\n",
    "## **Expected Output**\n",
    "\n",
    "- User enter the number\n",
    "- Program displays results of Multiplication Table"
   ]
  },
  {
   "cell_type": "code",
   "execution_count": 6,
   "id": "55b70447",
   "metadata": {},
   "outputs": [
    {
     "name": "stdout",
     "output_type": "stream",
     "text": [
      "------------ Multiplication Table --------------\n",
      "\n",
      "Welcome to Multiplication Table!\n",
      "\n",
      "\n",
      "Number: 8\n",
      "------------------\n",
      "\n",
      "Table of 8\n",
      "\n",
      "8 X 1 = 8\n",
      "8 X 2 = 16\n",
      "8 X 3 = 24\n",
      "8 X 4 = 32\n",
      "8 X 5 = 40\n",
      "8 X 6 = 48\n",
      "8 X 7 = 56\n",
      "8 X 8 = 64\n",
      "8 X 9 = 72\n",
      "8 X 10 = 80\n",
      "\n"
     ]
    }
   ],
   "source": [
    "# Welcome Statements\n",
    "print(\"------------ Multiplication Table --------------\\n\")\n",
    "print(\"Welcome to Multiplication Table!\\n\\n\")\n",
    "\n",
    "# Input Number\n",
    "number : int = int(input(\"Enter the Number: \"))\n",
    "\n",
    "# Calculating Multiplication Table\n",
    "multiplication_table : str = f\"\"\"\n",
    "Table of {number}\n",
    "\n",
    "{number} X 1 = {number * 1}\n",
    "{number} X 2 = {number * 2}\n",
    "{number} X 3 = {number * 3}\n",
    "{number} X 4 = {number * 4}\n",
    "{number} X 5 = {number * 5}\n",
    "{number} X 6 = {number * 6}\n",
    "{number} X 7 = {number * 7}\n",
    "{number} X 8 = {number * 8}\n",
    "{number} X 9 = {number * 9}\n",
    "{number} X 10 = {number * 10}\n",
    "\"\"\"\n",
    "\n",
    "# Printing Multiplication Table\n",
    "print(f\"Number: {number}\")\n",
    "print(\"------------------\")\n",
    "print(multiplication_table)"
   ]
  }
 ],
 "metadata": {
  "kernelspec": {
   "display_name": "Python 3",
   "language": "python",
   "name": "python3"
  },
  "language_info": {
   "codemirror_mode": {
    "name": "ipython",
    "version": 3
   },
   "file_extension": ".py",
   "mimetype": "text/x-python",
   "name": "python",
   "nbconvert_exporter": "python",
   "pygments_lexer": "ipython3",
   "version": "3.13.1"
  }
 },
 "nbformat": 4,
 "nbformat_minor": 5
}
