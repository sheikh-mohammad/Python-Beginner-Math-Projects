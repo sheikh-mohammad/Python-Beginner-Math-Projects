{
 "cells": [
  {
   "cell_type": "markdown",
   "id": "c4552dc3",
   "metadata": {},
   "source": [
    "# **Square and Cube Calculator**\n",
    "\n",
    "**Cateogory Name:** Math Projects <br />\n",
    "**Project Name:** Square and Cube Calculator\n",
    "\n",
    "## **Objective**\n",
    "\n",
    "Create square and cube calculator that takes a number from the user and gives its sqaure and cube.\n",
    "\n",
    "## **Concepts Used**\n",
    "\n",
    "- Variables\n",
    "- Input & Output (`input()`, `print()`)\n",
    "- Type Annotations (`:int`)\n",
    "- Arithmetic Operator (`*`, `**`)\n",
    "- f-strings (`f\" \"`)\n",
    "\n",
    "## **Expected Output**\n",
    "\n",
    "- User enter the number\n",
    "- Program displays results of square and cube"
   ]
  },
  {
   "cell_type": "code",
   "execution_count": 4,
   "id": "86b476c5",
   "metadata": {},
   "outputs": [
    {
     "name": "stdout",
     "output_type": "stream",
     "text": [
      "------------ Square and Cube Calculator --------------\n",
      "\n",
      "Welcome to Square and Cube Calculator!\n",
      "\n",
      "\n",
      "Number: 2\n",
      "---------------\n",
      "Square: 4\n",
      "Cube: 8\n"
     ]
    }
   ],
   "source": [
    "# Welcome Statements\n",
    "print(\"------------ Square and Cube Calculator --------------\\n\")\n",
    "print(\"Welcome to Square and Cube Calculator!\\n\\n\")\n",
    "\n",
    "# Input the Number\n",
    "number : int = int(input(\"Enter the Number: \"))\n",
    "\n",
    "# Calculating Square\n",
    "square : int = number * number\n",
    "\n",
    "# Note:\n",
    "# We can also write it as number ** 2\n",
    "\n",
    "# Calculating Cube\n",
    "cube : int = number * number * number\n",
    "\n",
    "# Note:\n",
    "# We can write it as number ** 3\n",
    "\n",
    "# Printing All Values\n",
    "print(f\"Number: {number}\")\n",
    "print(\"---------------\")\n",
    "print(f\"Square: {square}\")\n",
    "print(f\"Cube: {cube}\")"
   ]
  }
 ],
 "metadata": {
  "kernelspec": {
   "display_name": "Python 3",
   "language": "python",
   "name": "python3"
  },
  "language_info": {
   "codemirror_mode": {
    "name": "ipython",
    "version": 3
   },
   "file_extension": ".py",
   "mimetype": "text/x-python",
   "name": "python",
   "nbconvert_exporter": "python",
   "pygments_lexer": "ipython3",
   "version": "3.13.1"
  }
 },
 "nbformat": 4,
 "nbformat_minor": 5
}
