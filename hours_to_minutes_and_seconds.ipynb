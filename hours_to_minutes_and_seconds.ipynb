{
  "cells": [
    {
      "cell_type": "markdown",
      "metadata": {
        "id": "zoTIOXIim6tP"
      },
      "source": [
        "# **Hours to Minutes and Seconds Converter**\n",
        "\n",
        "**Cateogory Name:** Math Projects <br />\n",
        "**Project Name:** Hours to Minutes and Seconds Converter\n",
        "\n",
        "## **Objective**\n",
        "\n",
        "Create a Hours to Minutes and Seconds Converter that takes hours from the user and converts it to minutes and seconds.\n",
        "\n",
        "## **Concepts Used**\n",
        "\n",
        "- Variables\n",
        "- Input & Output (`input()`, `print()`)\n",
        "- Type Annotations (`:int`)\n",
        "- Arithmetic Operator (`+`, `-`, `*`, `/`)\n",
        "- f-strings (`f\" \"`)\n",
        "\n",
        "## **Expected Output**\n",
        "\n",
        "- User enter the hours\n",
        "- Program displays results of minutes and seconds"
      ]
    },
    {
      "cell_type": "code",
      "execution_count": 1,
      "metadata": {
        "id": "zBSNgUVqw2tO"
      },
      "outputs": [
        {
          "name": "stdout",
          "output_type": "stream",
          "text": [
            "--------- Hours to Minutes and Seconds Converter ---------\n",
            "\n",
            "Welcome to Hours to Minutes and Seconds Coonverter\n",
            "\n",
            "Hours: 24\n",
            "------------\n",
            "Minutes: 1440\n",
            "Seconds: 86400\n"
          ]
        }
      ],
      "source": [
        "# Welcome Statements\n",
        "print(\"--------- Hours to Minutes and Seconds Converter ---------\\n\")\n",
        "print(\"Welcome to Hours to Minutes and Seconds Coonverter\\n\")\n",
        "\n",
        "# Input Hours\n",
        "hours : int = int(input(\"Enter Hours: \"))\n",
        "\n",
        "# Converting into Minutes\n",
        "minutes : int = hours * 60\n",
        "\n",
        "# Converting into Seconds\n",
        "seconds : int = hours * 3600\n",
        "\n",
        "# Printing All Values\n",
        "print(f\"Hours: {hours}\")\n",
        "print(\"------------\")\n",
        "print(f\"Minutes: {minutes}\")\n",
        "print(f\"Seconds: {seconds}\")"
      ]
    }
  ],
  "metadata": {
    "colab": {
      "provenance": []
    },
    "kernelspec": {
      "display_name": "Python 3",
      "name": "python3"
    },
    "language_info": {
      "codemirror_mode": {
        "name": "ipython",
        "version": 3
      },
      "file_extension": ".py",
      "mimetype": "text/x-python",
      "name": "python",
      "nbconvert_exporter": "python",
      "pygments_lexer": "ipython3",
      "version": "3.13.1"
    }
  },
  "nbformat": 4,
  "nbformat_minor": 0
}
